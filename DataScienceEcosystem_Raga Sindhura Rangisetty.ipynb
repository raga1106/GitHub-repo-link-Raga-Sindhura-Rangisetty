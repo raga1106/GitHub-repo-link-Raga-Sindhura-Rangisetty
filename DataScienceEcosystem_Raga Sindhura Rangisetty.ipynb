{
 "cells": [
  {
   "cell_type": "markdown",
   "id": "f35c569b-9857-44ce-929a-ae51887918e1",
   "metadata": {},
   "source": [
    "# H2: Author\n",
    "Raga Sindhura Rangisetty"
   ]
  },
  {
   "cell_type": "markdown",
   "id": "3fc80e34-666b-4789-bd9c-287de19ef028",
   "metadata": {},
   "source": [
    "# H1 Data Science Tools and Ecosystem "
   ]
  },
  {
   "cell_type": "markdown",
   "id": "d9ec30b4-1991-4f7c-9983-a8e2f49c0cb6",
   "metadata": {},
   "source": [
    "# In this notebook, Data Science Tools and Ecosystem are summarized."
   ]
  },
  {
   "cell_type": "markdown",
   "id": "6f4ecd48-2ec9-4f73-b529-6a9a5735e0a4",
   "metadata": {},
   "source": [
    "**Objectives**\n",
    "- List Popular Data Science Languages\n",
    "- List Commonly used Libraries by Data Scientists\n",
    "- Some of the Data Science Tools"
   ]
  },
  {
   "cell_type": "markdown",
   "id": "aa46fca0-9294-4938-9f83-270fc94d9aa8",
   "metadata": {},
   "source": [
    "# Some of the popular languages that Data Scientists use are:\n",
    "1. Python\n",
    "2. RStuido\n",
    "3. SQL"
   ]
  },
  {
   "cell_type": "markdown",
   "id": "3b35e2e1-2f1b-4d59-aa52-a3f6f47b0524",
   "metadata": {},
   "source": [
    "# Some of the commonly used libraries used by Data Scientists include:\n",
    "1. Numpy\n",
    "2. Keras\n",
    "3. Pandas\n",
    "4. Pytorch\n",
    "5. Scipy"
   ]
  },
  {
   "cell_type": "markdown",
   "id": "7d06e327-782c-47ce-b5be-5670649d2524",
   "metadata": {},
   "source": [
    "| Data Science Tools |\n",
    "----------------------\n",
    "| Scikit Learn |\n",
    "| Apache Spark |\n",
    "| RStudio |"
   ]
  },
  {
   "cell_type": "markdown",
   "id": "99b0e5ff-962a-436a-9c1b-52ad878da749",
   "metadata": {},
   "source": [
    "# H3 Below are a few examples of evaluating arithmetic expressions in Python.\n"
   ]
  },
  {
   "cell_type": "code",
   "execution_count": 2,
   "id": "8ee8bf73-9c6d-422b-9681-bce1307933b1",
   "metadata": {},
   "outputs": [
    {
     "name": "stdout",
     "output_type": "stream",
     "text": [
      "17\n"
     ]
    }
   ],
   "source": [
    "# This a simple arithmetic expression to mutiply then add integers.\n",
    "Output = (3*4)+5\n",
    "print (Output)"
   ]
  },
  {
   "cell_type": "code",
   "execution_count": 4,
   "id": "595565ec-c52e-4616-875b-db1066d024dd",
   "metadata": {},
   "outputs": [
    {
     "data": {
      "text/plain": [
       "3.3333333333333335"
      ]
     },
     "execution_count": 4,
     "metadata": {},
     "output_type": "execute_result"
    }
   ],
   "source": [
    "# This will convert 200 minutes to hours by diving by 60.\n",
    "200/60"
   ]
  }
 ],
 "metadata": {
  "kernelspec": {
   "display_name": "Python 3 (ipykernel)",
   "language": "python",
   "name": "python3"
  },
  "language_info": {
   "codemirror_mode": {
    "name": "ipython",
    "version": 3
   },
   "file_extension": ".py",
   "mimetype": "text/x-python",
   "name": "python",
   "nbconvert_exporter": "python",
   "pygments_lexer": "ipython3",
   "version": "3.11.7"
  }
 },
 "nbformat": 4,
 "nbformat_minor": 5
}
